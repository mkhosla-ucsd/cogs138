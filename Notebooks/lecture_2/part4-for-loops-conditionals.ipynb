{
 "cells": [
  {
   "cell_type": "markdown",
   "metadata": {},
   "source": [
    "# `for` Loops\n",
    "\n",
    "---\n"
   ]
  },
  {
   "cell_type": "markdown",
   "metadata": {},
   "source": [
    "## Questions:\n",
    "- How can I make a program do things repeatedly?\n",
    "\n",
    "## Learning Objectives:\n",
    "- Explain what for loops are normally used for.\n",
    "- Trace the execution of a simple (unnested) loop and correctly state the values of variables in each iteration.\n",
    "- Write for loops that use the Accumulator pattern to aggregate values.\n",
    "\n",
    "---"
   ]
  },
  {
   "cell_type": "markdown",
   "metadata": {},
   "source": [
    "## A `for` loop executes commands once for each value in a collection\n",
    "\n",
    "*   Doing calculations on the values in a list one by one is as painful as working with many individual variables rather than a list or dictionary (e.g., `life_exp_1900`, `life_exp_1920`, etc. rather than `life_exp = [48.1, 56.6, 64.0, 71.0, 75.2, 79.2]`\n",
    "*   A ***for loop*** tells Python to execute some statements once for each value in a list, a character string, or some other collection\n",
    "*  The `for` command means, \"for each thing in this group, do these operations\"\n",
    "\n",
    "~~~python\n",
    "for number in [2, 3, 5]:\n",
    "    print(number)\n",
    "~~~\n",
    "\n"
   ]
  },
  {
   "cell_type": "code",
   "execution_count": null,
   "metadata": {},
   "outputs": [],
   "source": []
  },
  {
   "cell_type": "markdown",
   "metadata": {},
   "source": [
    "The `for` loop above is equivalent to:\n",
    "\n",
    "~~~python\n",
    "print(2)\n",
    "print(3)\n",
    "print(5)\n",
    "~~~\n",
    "\n",
    "- However, the `for` loop is *scalable* to any length input. \n",
    "- This makes it flexible, because we might not know in advance how many inputs we want to operate on."
   ]
  },
  {
   "cell_type": "markdown",
   "metadata": {},
   "source": [
    "## A `for` loop is made up of a collection, a loop variable, and a body.\n",
    "\n",
    "In our example:\n",
    "\n",
    "~~~python\n",
    "for number in [2, 3, 5]:\n",
    "    print(number)\n",
    "~~~\n",
    "\n",
    "- The **collection**, `[2, 3, 5]`, is what the loop is being run on.\n",
    "- The **loop variable**, `number`, is what changes for each *iteration* of the loop.\n",
    "    - This keeps track of where we are in the loop — the \"current thing\"\n",
    "- The **body**, `print(number)`, specifies what to do for each value in the collection.\n",
    "\n",
    "\n"
   ]
  },
  {
   "cell_type": "code",
   "execution_count": null,
   "metadata": {},
   "outputs": [],
   "source": []
  },
  {
   "cell_type": "markdown",
   "metadata": {},
   "source": [
    "## The first line of the `for` loop must end with a colon, and the body must be indented\n",
    "\n",
    "*   The colon at the end of the first line signals the start of a *block* of statements.\n",
    "*   Python uses indentation to show *nesting* (this is different from other languages, which often use explicit markers for the start and end (e.g., `{}` or `begin`/`end`) of a nesting.\n",
    "    *   Any consistent indentation is legal, but almost everyone uses four spaces.\n",
    "\n",
    "~~~python\n",
    "for number in [2, 3, 5]:\n",
    "    print(number)\n",
    "~~~\n",
    "\n"
   ]
  },
  {
   "cell_type": "code",
   "execution_count": null,
   "metadata": {},
   "outputs": [],
   "source": []
  },
  {
   "cell_type": "markdown",
   "metadata": {},
   "source": [
    "### Indentation is always meaningful in Python\n",
    "\n",
    "- After a `for` statement, Python expects at least one indented line with the body of the for loop\n",
    "- The end of the body of a for loop is indicated by a line of code that is not indented\n",
    "- It's good coding style (although not required) to put a blank line after the end of the body of a for loop, before the next line of code that's not in the for loop\n",
    "\n",
    "For example:\n",
    "\n",
    "```python\n",
    "for country in ['Canada', 'USA', 'Mexico']:\n",
    "    print(country)\n",
    "    \n",
    "print('All done printing country names')\n",
    "```"
   ]
  },
  {
   "cell_type": "code",
   "execution_count": null,
   "metadata": {},
   "outputs": [],
   "source": []
  },
  {
   "cell_type": "markdown",
   "metadata": {},
   "source": [
    "- Because indentation is always meaningful, the code below generates an error:\n",
    "\n",
    "~~~python\n",
    "life_exp_1900 = 48.1\n",
    "  life_exp_1920 = 56.6\n",
    "~~~"
   ]
  },
  {
   "cell_type": "code",
   "execution_count": null,
   "metadata": {},
   "outputs": [],
   "source": []
  },
  {
   "cell_type": "markdown",
   "metadata": {},
   "source": [
    "This error can be fixed by removing the extra spaces at the beginning of the second line."
   ]
  },
  {
   "cell_type": "markdown",
   "metadata": {},
   "source": [
    "### Question\n",
    "Is an indentation error a syntax error or a runtime error?\n",
    "\n",
    "### Solution\n",
    "A Python `IndentationError` is a syntax error. Programs with syntax errors cannot be started.\n",
    "A program with a runtime error will start but an error will be thrown under certain conditions.\n"
   ]
  },
  {
   "cell_type": "markdown",
   "metadata": {},
   "source": [
    "## Loop variables can be called anything.\n",
    "\n",
    "As with all variables, loop variables are:\n",
    "- Created on demand\n",
    "- Meaningless: their names can be anything at all\n",
    "- So the following are valid `for` loops, but not great loop variable names (unless in the first example your data actually concern kittens):\n",
    "\n",
    "~~~python\n",
    "for kitten in [2, 3, 5]:\n",
    "    print(kitten)\n",
    "\n",
    "for ytrjmn in [2, 3, 5]:\n",
    "    print(ytrjmn)   \n",
    "~~~\n",
    "\n",
    "- As always, clear and meaningful variable names are best practice\n"
   ]
  },
  {
   "cell_type": "code",
   "execution_count": null,
   "metadata": {},
   "outputs": [],
   "source": []
  },
  {
   "cell_type": "markdown",
   "metadata": {},
   "source": [
    "## The collection can be a list, dictionary, etc. that was defined previously\n",
    "\n",
    "~~~python\n",
    "life_exp = [48.1, 56.6, 64.0, 71.0, 75.2, 79.2]\n",
    "\n",
    "for e in life_exp:\n",
    "    print(e)\n",
    "~~~"
   ]
  },
  {
   "cell_type": "code",
   "execution_count": null,
   "metadata": {},
   "outputs": [],
   "source": []
  },
  {
   "cell_type": "markdown",
   "metadata": {},
   "source": [
    "- Strings can also be used as the collection, in which case the loop will step through each character of the string:\n",
    "\n",
    "```python\n",
    "for c in 'SURGE':\n",
    "    print(c)\n",
    "```"
   ]
  },
  {
   "cell_type": "code",
   "execution_count": null,
   "metadata": {},
   "outputs": [],
   "source": []
  },
  {
   "cell_type": "markdown",
   "metadata": {},
   "source": [
    "## The body of a loop can contain many statements.\n",
    "\n",
    "~~~python\n",
    "primes = [2, 3, 5]\n",
    "\n",
    "for p in primes:\n",
    "    squared = p ** 2\n",
    "    cubed = p ** 3\n",
    "    print(p, squared, cubed)\n",
    "~~~\n",
    "\n"
   ]
  },
  {
   "cell_type": "code",
   "execution_count": null,
   "metadata": {},
   "outputs": [],
   "source": []
  },
  {
   "cell_type": "markdown",
   "metadata": {},
   "source": [
    "## Use `range` to iterate over a sequence of numbers\n",
    "\n",
    "- This is an easy way to generate a sequence of numbers to make looping over large ranges more efficient\n",
    "- `range(n)` is the numbers 0 ... *n*-1\n",
    "    - recall that Python counts from zero\n",
    "    - as with slicing, `range()` goes up to, but does not include, the last value\n",
    "\n",
    "~~~python\n",
    "for i in range(10):\n",
    "    print(i)\n",
    "~~~"
   ]
  },
  {
   "cell_type": "code",
   "execution_count": null,
   "metadata": {},
   "outputs": [],
   "source": []
  },
  {
   "cell_type": "markdown",
   "metadata": {},
   "source": [
    "- If we provide two arguments to `range()`, the first is the start and the second is the end of the range:\n",
    "\n",
    "~~~python\n",
    "for i in range(10, 15):\n",
    "    print(i)\n",
    "~~~"
   ]
  },
  {
   "cell_type": "code",
   "execution_count": null,
   "metadata": {},
   "outputs": [],
   "source": []
  },
  {
   "cell_type": "markdown",
   "metadata": {},
   "source": [
    "- Although the `range()` function can substitute for typing out a list, it does not actually produce a list\n",
    "- The numbers are produced on demand to make looping over large ranges more efficient. We can see this by printing the result of calling the `range()` function:\n",
    "\n",
    "~~~python\n",
    "print(range(10))\n",
    "~~~"
   ]
  },
  {
   "cell_type": "code",
   "execution_count": null,
   "metadata": {},
   "outputs": [],
   "source": []
  },
  {
   "cell_type": "markdown",
   "metadata": {},
   "source": [
    "...or by printing its type:\n",
    "~~~python\n",
    "print(type(range(10)))\n",
    "~~~"
   ]
  },
  {
   "cell_type": "code",
   "execution_count": null,
   "metadata": {},
   "outputs": [],
   "source": []
  },
  {
   "cell_type": "markdown",
   "metadata": {},
   "source": [
    "## The \"accumulator\" pattern turns many values into one\n",
    "\n",
    "A common pattern in programs is to:\n",
    "1.  Initialize an *accumulator* variable to zero\n",
    "2.  Update the variable with values from a collection.\n",
    "\n",
    "- The code below sums the integers 1-10:\n",
    "\n",
    "~~~python\n",
    "total = 0\n",
    "\n",
    "for number in range(1, 11):\n",
    "    total = total + number\n",
    "    \n",
    "print(total)\n",
    "~~~\n",
    "\n",
    "- Note that we specify a range of 1-11 because the `range()` goes up to, but does not include, the 'end' number"
   ]
  },
  {
   "cell_type": "code",
   "execution_count": null,
   "metadata": {},
   "outputs": [],
   "source": []
  },
  {
   "cell_type": "markdown",
   "metadata": {},
   "source": [
    "*   Read `total = total + number ` as:\n",
    "    *   Add the value of `number` to the current value of the accumulator variable `total`.\n",
    "    *   Assign that to `total`, replacing the current value."
   ]
  },
  {
   "cell_type": "markdown",
   "metadata": {},
   "source": [
    "## Accumulators can also be empty lists\n",
    "\n",
    "This is where empty lists and the `.append()` method can be really useful - we can initialize an empty list and the append to it each time through the loop:\n",
    "\n",
    "~~~python\n",
    "output = []\n",
    "for i in range(10):\n",
    "    output.append(i * 2)\n",
    "    \n",
    "print(output)\n",
    "~~~"
   ]
  },
  {
   "cell_type": "code",
   "execution_count": null,
   "metadata": {},
   "outputs": [],
   "source": []
  },
  {
   "cell_type": "markdown",
   "metadata": {},
   "source": [
    "## List comprehension\n",
    "\n",
    "- List comprehension is a special kind of `for` loop that you can use to create a list \n",
    "- This can be a very powerful and compact way of doing things\n",
    "- For example, the following code creates a list of values from 1 to 10 in a single line of code:\n",
    "\n",
    "```python\n",
    "[x for x in range(1, 11)]\n",
    "```"
   ]
  },
  {
   "cell_type": "code",
   "execution_count": null,
   "metadata": {},
   "outputs": [],
   "source": []
  },
  {
   "cell_type": "markdown",
   "metadata": {},
   "source": [
    "- List comprehension can be very useful if you want to apply some operation to every value in a list\n",
    "- For example, let's say we had a set of times in seconds, and we wanted to convert them to milliseconds (thousandths of a second):\n",
    "\n",
    "```python\n",
    "time_sec = [0.19859864, 1.35544082,  0.81298099,  1.80873061,  0.78908326, \n",
    "            1.40242708, 0.39563692,  1.91673302, 1.07524985, 1.02169021]\n",
    "\n",
    "time_ms = [t * 1000 for t in time_sec]\n",
    "\n",
    "print(time_ms)\n",
    "```"
   ]
  },
  {
   "cell_type": "code",
   "execution_count": null,
   "metadata": {},
   "outputs": [],
   "source": [
    "time_sec = [0.19859864, 1.35544082,  0.81298099,  1.80873061,  0.78908326, \n",
    "            1.40242708, 0.39563692,  1.91673302, 1.07524985, 1.02169021]\n",
    "\n",
    "# Type the rest of the code yourself\n"
   ]
  },
  {
   "cell_type": "markdown",
   "metadata": {},
   "source": [
    "We can get even fancier here, and also round our milliseconds down to whole numbers:\n",
    "\n",
    "```python\n",
    "time_ms = [round(t * 1000) for t in time_sec]\n",
    "\n",
    "print(time_ms)\n",
    "```"
   ]
  },
  {
   "cell_type": "code",
   "execution_count": null,
   "metadata": {},
   "outputs": [],
   "source": []
  },
  {
   "cell_type": "markdown",
   "metadata": {
    "tags": []
   },
   "source": [
    "## Lambda Functions and Mapping\n",
    "\n",
    "Yet another way of performing an operation over a collection, is by combining `map()` and `lambda` functions.  Recall that *functions* are Python commands like `print()` and `type()`. A Python function is actually a program that is run when you execute the function.\n",
    "\n",
    "[`lambda` functions](https://www.datacamp.com/community/tutorials/python-lambda) are a way of creating your own very small functions, on the fly, to perform a specific operation or combination of operations. Lambda functions take variables as input and return a value (the results of the operations it performs). A lambda function is composed of:\n",
    "- the statement `lambda`\n",
    "- the argument(s) — the variable(s) you pass to the operations in the lambda function\n",
    "- a colon\n",
    "- the expression (operations you want the function to perform on the arguments)\n",
    "\n",
    "For example, re-writing the above code to convert seconds to milliseconds and round to integers as a lambda function would be:\n",
    "\n",
    "~~~python\n",
    "lambda t: round(t * 1000)\n",
    "~~~\n",
    "\n",
    "### Mapping\n",
    "\n",
    "As with the `print()` or `round()` functions, with a lambda function you need to pass something to it as an argument for it to operate on. The variable `t` in the lambda function above represents the argument passed to the lambda function. We can pass a collection to a lambda function, so that it will be applied to each item in the collection.  \n",
    "\n",
    "The `map()` function is used to apply a lambda function to a collection, instead of using a `for` loop\n",
    "\n",
    "`map()` takes two arguments:\n",
    "- the function you want to apply\n",
    "- the collection you want to apply it to\n",
    "\n",
    "The code below maps the convert-to-milliseconds-and-round function to the `time_sec` list:\n",
    "\n",
    "~~~python\n",
    "time_ms = map(lambda t: round(t * 1000), \n",
    "              time_sec)\n",
    "~~~"
   ]
  },
  {
   "cell_type": "code",
   "execution_count": null,
   "metadata": {},
   "outputs": [],
   "source": []
  },
  {
   "cell_type": "markdown",
   "metadata": {},
   "source": [
    "However, the result is not a list, but a Python `map' object:\n",
    "\n",
    "~~~python\n",
    "print(type(time_ms))\n",
    "print(time_ms)\n",
    "~~~"
   ]
  },
  {
   "cell_type": "code",
   "execution_count": null,
   "metadata": {},
   "outputs": [],
   "source": []
  },
  {
   "cell_type": "markdown",
   "metadata": {},
   "source": [
    "This is because the result of the `map()` function is a *mapping* between the lambda function and the collection. That is, it specifies how a function is applied to the collection, but it doesn't actually apply the function until you ask it to generate output. We can do this by telling Python to format the result of the mapping as a list with the `list()` function:\n",
    "\n",
    "~~~python\n",
    "time_ms = list(map(lambda t: round(t * 1000), \n",
    "                   time_sec))\n",
    "\n",
    "print(time_ms)\n",
    "~~~"
   ]
  },
  {
   "cell_type": "code",
   "execution_count": null,
   "metadata": {},
   "outputs": [],
   "source": []
  },
  {
   "cell_type": "markdown",
   "metadata": {
    "jp-MarkdownHeadingCollapsed": true,
    "tags": []
   },
   "source": [
    "## Which to use?\n",
    "\n",
    "- `for` loops are the most general, multipurpose way of performing an operation over many items\n",
    "- `for` loops are quite explicit compared to list comprehensions or mapped lambda functions, and a good way to start tackling any problem\n",
    "- The body of `for` loops can be of any length, whereas list comprehensions and lambda functions are best used with only one or a few operations\n",
    "- List comprehensions result in lists, which is not always what you want out of a `for` loop\n",
    "- List comprehensions are generally faster than `for` loops, for creating lists\n",
    "- Lambda functions will become useful later in the course, as we start working with larger data sets. Stay tuned!"
   ]
  },
  {
   "cell_type": "markdown",
   "metadata": {
    "tags": []
   },
   "source": [
    "---\n",
    "## Exercises"
   ]
  },
  {
   "cell_type": "markdown",
   "metadata": {},
   "source": [
    "### Reversing a String\n",
    "\n",
    "Fill in the blanks in the program below so that it reverses the order of the letters in `original` (Hint: remember that you can concatenate strings in Python with the `+` operator)\n",
    "\n",
    "~~~python\n",
    "original = 'semordnilap'\n",
    "result = ____ \n",
    "for char in original:\n",
    "    result = ____\n",
    "\n",
    "print(result)\n",
    "~~~"
   ]
  },
  {
   "cell_type": "code",
   "execution_count": null,
   "metadata": {},
   "outputs": [],
   "source": []
  },
  {
   "cell_type": "markdown",
   "metadata": {},
   "source": [
    "### Practice Accumulating\n",
    "\n",
    "Fill in the blanks in each of the programs below\n",
    "to produce the indicated result.\n",
    "\n",
    "#### 1. Print the total number of characters in all of the words in the list \n",
    "(Correct answer is 12)\n",
    "\n",
    "~~~python\n",
    "total = 0\n",
    "\n",
    "for word in ['red', 'green', 'blue']:\n",
    "    ____ = ____ + len(word)\n",
    "\n",
    "print(total)\n",
    "~~~"
   ]
  },
  {
   "cell_type": "code",
   "execution_count": null,
   "metadata": {},
   "outputs": [],
   "source": []
  },
  {
   "cell_type": "markdown",
   "metadata": {},
   "source": [
    "#### 2. Print a list of the lengths of *each* word in the list \n",
    "(correct answer is `[3, 5, 4]`)"
   ]
  },
  {
   "cell_type": "markdown",
   "metadata": {},
   "source": [
    "~~~python\n",
    "lengths = ____\n",
    "\n",
    "for word in ['red', 'green', 'blue']:\n",
    "    lengths.____(____)\n",
    "\n",
    "print(lengths)\n",
    "~~~"
   ]
  },
  {
   "cell_type": "code",
   "execution_count": null,
   "metadata": {},
   "outputs": [],
   "source": []
  },
  {
   "cell_type": "markdown",
   "metadata": {},
   "source": [
    "#### 3. Concatenate all of the words in the list into one string\n",
    "(correct answer is `\"redgreenblue\"`)"
   ]
  },
  {
   "cell_type": "markdown",
   "metadata": {},
   "source": [
    "```python\n",
    "words = ['red', 'green', 'blue']\n",
    "result = ____\n",
    "\n",
    "for ____ in ____:\n",
    "    ____\n",
    "    \n",
    "print(result)\n",
    "```"
   ]
  },
  {
   "cell_type": "code",
   "execution_count": null,
   "metadata": {},
   "outputs": [],
   "source": []
  },
  {
   "cell_type": "markdown",
   "metadata": {},
   "source": [
    "#### 4. Create acronym: [\"red\", \"green\", \"blue\"] = \"RGB\"\n",
    "\n",
    "Write all the code this time!\n",
    "\n",
    "Hint: Python as a `.upper()` method that works on characters and strings"
   ]
  },
  {
   "cell_type": "code",
   "execution_count": null,
   "metadata": {},
   "outputs": [],
   "source": []
  },
  {
   "cell_type": "markdown",
   "metadata": {},
   "source": [
    "### Cumulative Sum\n",
    "\n",
    "Reorder and properly indent the lines of code below\n",
    "so that they print a list with the cumulative sum of data.\n",
    "The result should be `[1, 3, 5, 10]`.\n",
    "\n",
    "~~~python\n",
    "cumulative.append(sum)\n",
    "for number in data:\n",
    "cumulative = []\n",
    "sum += number\n",
    "sum = 0\n",
    "print(cumulative)\n",
    "data = [1, 2, 2, 5]\n",
    "~~~"
   ]
  },
  {
   "cell_type": "code",
   "execution_count": null,
   "metadata": {},
   "outputs": [],
   "source": []
  },
  {
   "cell_type": "markdown",
   "metadata": {},
   "source": [
    "### Identifying Item Errors\n",
    "\n",
    "1. Read the code below and try to identify what the errors are *without* running it.\n",
    "1. Run the code, and read the error message. What type of error is it?\n",
    "1. Fix the error.\n",
    "\n",
    "~~~python\n",
    "seasons = ['Spring', 'Summer', 'Fall', 'Winter']\n",
    "print('My favorite season is ', seasons[4])\n",
    "~~~"
   ]
  },
  {
   "cell_type": "code",
   "execution_count": null,
   "metadata": {},
   "outputs": [],
   "source": []
  },
  {
   "cell_type": "markdown",
   "metadata": {
    "jp-MarkdownHeadingCollapsed": true,
    "jupyter": {
     "outputs_hidden": false
    },
    "tags": []
   },
   "source": [
    "---\n",
    "## Summary of Key Points:\n",
    "\n",
    "- A `for` loop executes commands once for each value in a collection.\n",
    "- A `for` loop is made up of a collection, a loop variable, and a body.\n",
    "- The first line of the `for` loop must end with a colon, and the body must be indented.\n",
    "- Indentation is always meaningful in Python.\n",
    "- Loop variables can be called anything (but it is strongly advised to have a meaningful name to the looping variable).\n",
    "- The body of a loop can contain many statements.\n",
    "- Use `range` to iterate over a sequence of numbers.\n",
    "- The *accumulator* pattern turns many values into one.\n",
    "- List comprehension is a powerful way to create lists using a `for` loop, in a single line of code.\n",
    "- Mapped lambda functions are another way of performing an operation(s) over a collection of values"
   ]
  },
  {
   "cell_type": "markdown",
   "metadata": {},
   "source": [
    "# Conditionals"
   ]
  },
  {
   "cell_type": "markdown",
   "metadata": {},
   "source": [
    "## Questions:\n",
    "- How can programs do different things for different data?\n",
    "\n",
    "## Learning Objectives:\n",
    "- Correctly write programs that use `if` and `else` statements and simple Boolean expressions \n",
    "- Trace the execution of conditionals \n",
    "\n",
    "---"
   ]
  },
  {
   "cell_type": "markdown",
   "metadata": {},
   "source": [
    "### Conditional operators\n",
    "Condition operators can be used to test the relationship between two objects. These operators return Booleans.\n",
    "\n",
    "| Symbol |    Operation   | Usage | Outcome |\n",
    "|:------:|:--------------:|:-----:|:-------:|\n",
    "|    ==   |  is equal to  |`10==5*2`| True | \n",
    "|    !=   | is not equal to | `10!=5*2` | False |\n",
    "|    >  | Greater than |  `10 > 2` | True |\n",
    "|    <   |    Less than    |  `10 < 2` | False |\n",
    "| >= | Greater than _or_ equal to | `10 >= 10` | True |\n",
    "| <= | Less than _or_ equal to | `10 >= 10` | True |\n"
   ]
  },
  {
   "cell_type": "markdown",
   "metadata": {},
   "source": [
    "### Identity Operators\n",
    "\n",
    " Identity operators are used to check if two values (or variables) are located on the same part of the memory.\n",
    " \n",
    "- `is` : True if both refer to the same object\n",
    "- `is not` : True if they do not refer to the same object\n",
    "\n",
    "**Hint**: You can use the `id` function to check the unique identifier of a Python object."
   ]
  },
  {
   "cell_type": "code",
   "execution_count": null,
   "metadata": {},
   "outputs": [],
   "source": [
    "a = 927\n",
    "b = a\n",
    "c = 927\n",
    "print(a is b)\n",
    "print(c is a)\n",
    "\n",
    "print(id(a))\n",
    "print(id(b))\n",
    "print(id(c))"
   ]
  },
  {
   "cell_type": "markdown",
   "metadata": {},
   "source": [
    "### Membership Operators\n",
    "Python uses `in` and `not in` to compare membership. These operators return booleans. Membership operators are used to check whether a value or variable is found in a sequence.\n",
    "\n",
    "- `in` : True if value is found in the sequence\n",
    "- `not in` : True if value is not found in the sequence\n",
    "\n",
    "We can use this to check for membership in strings, as well as in lists."
   ]
  },
  {
   "cell_type": "code",
   "execution_count": 1,
   "metadata": {},
   "outputs": [
    {
     "name": "stdout",
     "output_type": "stream",
     "text": [
      "False\n"
     ]
    }
   ],
   "source": [
    "x = 'I love COGS138!'\n",
    "print('loved' in x)"
   ]
  },
  {
   "cell_type": "markdown",
   "metadata": {},
   "source": [
    "## Use `if` statements to control whether or not a block of code is executed.\n",
    "\n",
    "*   An `if` statement (more properly called a *conditional* statement)\n",
    "    controls whether some block of code is executed or not.\n",
    "*   Structure is similar to a `for` statement:\n",
    "    *   First line opens with `if` and ends with a colon\n",
    "    *   Body containing one or more statements is indented (usually by 4 spaces)\n",
    "\n",
    "~~~python\n",
    "gdp = 49357\n",
    "\n",
    "if gdp > 10000:\n",
    "    print('With a GDP of', gdp, ', this is a wealthy country')\n",
    "~~~"
   ]
  },
  {
   "cell_type": "code",
   "execution_count": null,
   "metadata": {},
   "outputs": [],
   "source": []
  },
  {
   "cell_type": "markdown",
   "metadata": {},
   "source": [
    "~~~python\n",
    "gdp = 5937\n",
    "if gdp > 10000:\n",
    "     print('With a GDP of', gdp, ', this is a wealthy country')\n",
    "~~~"
   ]
  },
  {
   "cell_type": "code",
   "execution_count": null,
   "metadata": {},
   "outputs": [],
   "source": []
  },
  {
   "cell_type": "markdown",
   "metadata": {},
   "source": [
    "## Conditionals are often used inside loops.\n",
    "\n",
    "*   Not much point using a conditional when we know the value (as above).\n",
    "*   But useful when we have a collection to process.\n",
    "\n",
    "~~~python\n",
    "gdp = [5900, 36100, 33700, 7400, 10700]\n",
    "for g in gdp:\n",
    "    if g > 10000:\n",
    "        print(g, 'is wealthy')\n",
    "~~~"
   ]
  },
  {
   "cell_type": "code",
   "execution_count": null,
   "metadata": {},
   "outputs": [],
   "source": []
  },
  {
   "cell_type": "markdown",
   "metadata": {},
   "source": [
    "## Use `else` to execute a block of code when an `if` condition is *not* true.\n",
    "\n",
    "*   `else` can be used following an `if`.\n",
    "*   Allows us to specify an alternative to execute when the `if` *branch* isn't taken.\n",
    "\n",
    "~~~python\n",
    "gdp = [5900, 36100, 33700, 7400, 10700]\n",
    "\n",
    "for g in gdp:\n",
    "    if g > 10000:\n",
    "        print(g, 'is wealthy')\n",
    "    else:\n",
    "        print(g, 'is poor')\n",
    "\n",
    "~~~"
   ]
  },
  {
   "cell_type": "code",
   "execution_count": null,
   "metadata": {},
   "outputs": [],
   "source": []
  },
  {
   "cell_type": "markdown",
   "metadata": {},
   "source": [
    "## Use `elif` to specify additional tests.\n",
    "\n",
    "- May want to provide several alternative choices, each with its own test.\n",
    "- Use `elif` (short for \"else if\") and a condition to specify these.\n",
    "- Must come before the `else` (which is the \"catch-all\")\n",
    "\n",
    "~~~python      \n",
    "gdp = [5900, 36100, 33700, 7400, 10700]\n",
    "\n",
    "for g in gdp:\n",
    "    if g > 30000:\n",
    "        print(g, 'is very wealthy')\n",
    "    elif g > 10000:\n",
    "        print(g, 'is wealthy')\n",
    "    else:\n",
    "        print(g, 'is poor')\n",
    "~~~        "
   ]
  },
  {
   "cell_type": "code",
   "execution_count": null,
   "metadata": {},
   "outputs": [],
   "source": []
  },
  {
   "cell_type": "code",
   "execution_count": null,
   "metadata": {},
   "outputs": [],
   "source": [
    "## Conditions are tested once, in order.\n",
    "\n",
    "Python steps through the branches of the conditional in order, testing each in turn — so ordering matters!\n",
    "\n",
    "For example, here is a grading scheme no student would want used:\n",
    "\n",
    "~~~python\n",
    "grade = 85\n",
    "\n",
    "if grade >= 70:\n",
    "    print('grade is C')\n",
    "elif grade >= 80:\n",
    "    print('grade is B')\n",
    "elif grade >= 90:\n",
    "    print('grade is A')\n",
    "~~~"
   ]
  },
  {
   "cell_type": "code",
   "execution_count": null,
   "metadata": {},
   "outputs": [],
   "source": []
  },
  {
   "cell_type": "markdown",
   "metadata": {},
   "source": [
    "## Compound Relations Using `and`, & `or`\n",
    "\n",
    "Often, you want to check if some *combination* of things is true.  You can combine relations within a conditional using `and` and `or`.  Here's an example with GDP per capita and corresponding populations (in millions) for several countries in 2007. Let's define a \"power\" index for countries whereby a country is considered \"Very powerful\" if it is large (pop. > 10 m) and rich (GDP > 10,000); \"powerful\" if it is large *or* rich (but not both); 'or \"not powerful\" if it is neither large nor rich. \n",
    "\n",
    "~~~python\n",
    "gdp = [5900, 36100, 33700, 7400, 10700, 27538, 36180, 6557]\n",
    "pop = [3.6,    8.2,  10.4,  4.6,   7.3,  10.7,   0.3,  0.7]\n",
    "\n",
    "for i in range(5):\n",
    "    if pop[i] > 10.0 and gdp[i] > 10000:\n",
    "        print('Country is very powerful')\n",
    "    elif pop[i] > 10.0 and gdp[i] > 10000:\n",
    "        print('Country is powerful')\n",
    "    else:\n",
    "        print('Country is not powerful')\n",
    "~~~"
   ]
  },
  {
   "cell_type": "code",
   "execution_count": null,
   "metadata": {},
   "outputs": [],
   "source": [
    "# Data is provided to save you some typing\n",
    "gdp = [5900, 36100, 33700, 7400, 10700, 27538, 36180, 6557]\n",
    "pop = [3.6,    8.2,  10.4,  4.6,   7.3,  10.7,   0.3,  0.7]\n",
    "\n"
   ]
  },
  {
   "cell_type": "markdown",
   "metadata": {},
   "source": [
    "Sometimes you may want to combine multiple `and`/`or` statements. For example, continuing the example above, we could define further nuance whereby a country could be considered \"very powerful\" if it has a population > 10 m *and* a GDP > 10,000, *or* if it has a GDP > 30,000 regardless of its population size. We could re-write the first conditional statement from the above example as:\n",
    "\n",
    "~~~python\n",
    "if pop[i] > 10.0 and gdp[i] > 10000 or gdp[i] > 30000:\n",
    "    print('Country is very powerful')\n",
    "~~~\n",
    "\n",
    "However, this is potentially ambiguous — it could mean either:\n",
    "\n",
    "- *if population is > 10 and the GDP is either > 10,000 or > 30,000* \n",
    "- i.e., `if pop[i] > 10.0 and (gdp[i] > 10000 or gdp[i] > 30000)`\n",
    "\n",
    "or \n",
    "\n",
    "- *if the population is > 10 and the GDP is > 10,000, or if the GDP is > 30,000*\n",
    "- i.e., `(if pop[i] > 10.0 and gdp[i] > 10000) or gdp[i] > 30000`\n",
    "\n",
    "Of the above two examples, only the second meets our new definition of \"very powerful\". The first example will fail because it only tests if GDP > 30,000 if population is > 10.\n",
    "\n",
    "Python has a precedence order (\"order of operations\") whereby it evaluates `and` before `or`. However, just like with arithmetic, you can and should use parentheses (as in the code examples above) whenever there is possible ambiguity.  A good general rule is to *always* use parentheses when mixing `and` and `or` in the same condition.  "
   ]
  },
  {
   "cell_type": "code",
   "execution_count": null,
   "metadata": {},
   "outputs": [],
   "source": []
  },
  {
   "cell_type": "markdown",
   "metadata": {},
   "source": [
    "---\n",
    "This lesson is adapted from the [Software Carpentry](https://software-carpentry.org/lessons/) [Plotting and Programming in Python](http://swcarpentry.github.io/python-novice-gapminder/) workshop. \n",
    "Some parts of this notebook are derived from UCSD COGS18 Materials, created by Tom Donoghue & Shannon Ellis, as well as the <a href=\"https://github.com/jakevdp/WhirlwindTourOfPython/blob/6f1daf714fe52a8dde6a288674ba46a7feed8816/07-Control-Flow-Statements.ipynb\">Control Flow Statements</a> notebook by J.R. Johansson.\n"
   ]
  }
 ],
 "metadata": {
  "kernelspec": {
   "display_name": "Python 3 (ipykernel)",
   "language": "python",
   "name": "python3"
  },
  "language_info": {
   "codemirror_mode": {
    "name": "ipython",
    "version": 3
   },
   "file_extension": ".py",
   "mimetype": "text/x-python",
   "name": "python",
   "nbconvert_exporter": "python",
   "pygments_lexer": "ipython3",
   "version": "3.9.5"
  }
 },
 "nbformat": 4,
 "nbformat_minor": 4
}
